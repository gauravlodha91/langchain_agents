{
 "cells": [
  {
   "cell_type": "code",
   "execution_count": null,
   "id": "bef8d3b5",
   "metadata": {},
   "outputs": [],
   "source": []
  },
  {
   "cell_type": "code",
   "execution_count": null,
   "id": "a722aaa4",
   "metadata": {},
   "outputs": [
    {
     "ename": "KeyError",
     "evalue": "-1",
     "output_type": "error",
     "traceback": [
      "\u001b[1;31m---------------------------------------------------------------------------\u001b[0m",
      "\u001b[1;31mKeyError\u001b[0m                                  Traceback (most recent call last)",
      "Cell \u001b[1;32mIn[8], line 58\u001b[0m\n\u001b[0;32m     54\u001b[0m \u001b[38;5;66;03m# Update the agent invocation\u001b[39;00m\n\u001b[0;32m     55\u001b[0m response \u001b[38;5;241m=\u001b[39m agent1\u001b[38;5;241m.\u001b[39minvoke({\n\u001b[0;32m     56\u001b[0m     \u001b[38;5;124m\"\u001b[39m\u001b[38;5;124mmessages\u001b[39m\u001b[38;5;124m\"\u001b[39m: [HumanMessage(content\u001b[38;5;241m=\u001b[39m\u001b[38;5;124m\"\u001b[39m\u001b[38;5;124madd 2 and 5\u001b[39m\u001b[38;5;124m\"\u001b[39m)]\n\u001b[0;32m     57\u001b[0m })\n\u001b[1;32m---> 58\u001b[0m \u001b[38;5;28mprint\u001b[39m(\u001b[43mresponse\u001b[49m\u001b[43m[\u001b[49m\u001b[38;5;241;43m-\u001b[39;49m\u001b[38;5;241;43m1\u001b[39;49m\u001b[43m]\u001b[49m)\n",
      "\u001b[1;31mKeyError\u001b[0m: -1"
     ]
    }
   ],
   "source": [
    "from langchain_core.tools import tool\n",
    "from langgraph.prebuilt import create_react_agent\n",
    "from dotenv import load_dotenv\n",
    "import os\n",
    "# Load environment variables\n",
    "load_dotenv()\n",
    "from langchain_cohere import ChatCohere\n",
    "from langchain_core.messages import HumanMessage\n",
    "\n",
    "chat_model = ChatCohere(\n",
    "    cohere_api_key=os.getenv(\"COHERE_API_KEY\"),\n",
    "    model=\"command-r-plus\",  # Cohere's latest model\n",
    "    temperature=0.7\n",
    ")\n",
    "\n",
    "\n",
    "@tool\n",
    "def multi(a: int, b: int) -> int:\n",
    "    \"\"\"Multiply two numbers and return the result.\n",
    "    \n",
    "    Args:\n",
    "        a (int): First number\n",
    "        b (int): Second number\n",
    "        \n",
    "    Returns:\n",
    "        str: Success message with multiplication result\n",
    "    \"\"\"\n",
    "    res = a * b\n",
    "    return f\"Successfully Multiplied the number {res}\"\n",
    "\n",
    "@tool\n",
    "def add(a: int, b: int) -> int:\n",
    "    \"\"\"Add two numbers and return the result.\n",
    "    \n",
    "    Args:\n",
    "        a (int): First number\n",
    "        b (int): Second number\n",
    "        \n",
    "    Returns:\n",
    "        str: Success message with addition result\n",
    "    \"\"\"\n",
    "    res = a + b\n",
    "    return f\"Successfully Addition the number {res}\"\n",
    "\n",
    "\n",
    "agent1 = create_react_agent(\n",
    "    model= chat_model,\n",
    "    tools=[multi, add],\n",
    "    prompt=\"the agent is used for multiple operation like multiplication(multi) and addition (add)\",\n",
    "name=\"calc_agent\"\n",
    "    \n",
    ")\n",
    "\n",
    "# Update the agent invocation\n",
    "response = agent1.invoke({\n",
    "    \"messages\": [HumanMessage(content=\"add 2 and 5\")]\n",
    "})\n",
    "\n"
   ]
  },
  {
   "cell_type": "code",
   "execution_count": 11,
   "id": "dfbdab76",
   "metadata": {},
   "outputs": [
    {
     "data": {
      "text/plain": [
       "{'messages': [HumanMessage(content='add 2 and 5', additional_kwargs={}, response_metadata={}, id='e0ce27d7-9cbe-451b-99f9-3da6b7bc881a'),\n",
       "  AIMessage(content=\"I will use the 'add' tool to add 2 and 5.\", additional_kwargs={'id': 'c307b7b6-849b-42e1-80ad-95ae493782d2', 'finish_reason': 'TOOL_CALL', 'tool_plan': \"I will use the 'add' tool to add 2 and 5.\", 'tool_calls': [{'id': 'add_qx7n9hyghe1w', 'type': 'function', 'function': {'name': 'add', 'arguments': '{\"a\":2,\"b\":5}'}}], 'token_count': {'input_tokens': 892.0, 'output_tokens': 62.0}}, response_metadata={'id': 'c307b7b6-849b-42e1-80ad-95ae493782d2', 'finish_reason': 'TOOL_CALL', 'tool_plan': \"I will use the 'add' tool to add 2 and 5.\", 'tool_calls': [{'id': 'add_qx7n9hyghe1w', 'type': 'function', 'function': {'name': 'add', 'arguments': '{\"a\":2,\"b\":5}'}}], 'token_count': {'input_tokens': 892.0, 'output_tokens': 62.0}}, name='calc_agent', id='run--2fcce991-9f8b-4de3-8316-caf673e3aeee-0', tool_calls=[{'name': 'add', 'args': {'a': 2, 'b': 5}, 'id': 'add_qx7n9hyghe1w', 'type': 'tool_call'}], usage_metadata={'input_tokens': 892, 'output_tokens': 62, 'total_tokens': 954}),\n",
       "  ToolMessage(content='Successfully Addition the number 7', name='add', id='353df002-b804-428c-a80d-7acc164eb6b7', tool_call_id='add_qx7n9hyghe1w'),\n",
       "  AIMessage(content='The answer is **7**.', additional_kwargs={'id': '5f74dfd5-b85c-41b9-8b00-9c01b6a39148', 'finish_reason': 'COMPLETE', 'content': 'The answer is **7**.', 'citations': [Citation(start=16, end=17, text='7', sources=[ToolSource(type='tool', id='add_qx7n9hyghe1w:0', tool_output={'output': 'Successfully Addition the number 7'})], content_index=None, type='TEXT_CONTENT')], 'token_count': {'input_tokens': 987.0, 'output_tokens': 45.0}}, response_metadata={'id': '5f74dfd5-b85c-41b9-8b00-9c01b6a39148', 'finish_reason': 'COMPLETE', 'content': 'The answer is **7**.', 'citations': [Citation(start=16, end=17, text='7', sources=[ToolSource(type='tool', id='add_qx7n9hyghe1w:0', tool_output={'output': 'Successfully Addition the number 7'})], content_index=None, type='TEXT_CONTENT')], 'token_count': {'input_tokens': 987.0, 'output_tokens': 45.0}}, name='calc_agent', id='run--91131b6b-f316-4833-a6ad-37f198897e93-0', usage_metadata={'input_tokens': 987, 'output_tokens': 45, 'total_tokens': 1032})]}"
      ]
     },
     "execution_count": 11,
     "metadata": {},
     "output_type": "execute_result"
    }
   ],
   "source": [
    "response"
   ]
  },
  {
   "cell_type": "code",
   "execution_count": 14,
   "id": "7e116b14",
   "metadata": {},
   "outputs": [
    {
     "data": {
      "text/plain": [
       "'The answer is **7**.'"
      ]
     },
     "execution_count": 14,
     "metadata": {},
     "output_type": "execute_result"
    }
   ],
   "source": [
    "response['messages'][-1].content"
   ]
  },
  {
   "cell_type": "code",
   "execution_count": null,
   "id": "7b08fd93",
   "metadata": {},
   "outputs": [],
   "source": []
  }
 ],
 "metadata": {
  "kernelspec": {
   "display_name": "aenv",
   "language": "python",
   "name": "python3"
  },
  "language_info": {
   "codemirror_mode": {
    "name": "ipython",
    "version": 3
   },
   "file_extension": ".py",
   "mimetype": "text/x-python",
   "name": "python",
   "nbconvert_exporter": "python",
   "pygments_lexer": "ipython3",
   "version": "3.10.6"
  }
 },
 "nbformat": 4,
 "nbformat_minor": 5
}
